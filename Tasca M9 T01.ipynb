{
 "cells": [
  {
   "cell_type": "markdown",
   "id": "78e29cf1",
   "metadata": {},
   "source": [
    "## Exercici 1\n",
    "Agafa un text en anglès que vulguis, i calcula'n la freqüència de les paraules."
   ]
  },
  {
   "cell_type": "code",
   "execution_count": 1,
   "id": "797d044f",
   "metadata": {},
   "outputs": [],
   "source": [
    "import pandas as pd\n",
    "import numpy as np\n",
    "import seaborn as sns\n",
    "import nltk\n",
    "from nltk.sentiment.vader import SentimentIntensityAnalyzer\n",
    "from nltk.corpus import stopwords\n",
    "from nltk.tokenize import word_tokenize\n",
    "from nltk.stem import WordNetLemmatizer\n",
    "from nltk.probability import FreqDist\n",
    "from nltk.stem import PorterStemmer\n",
    "import matplotlib.pyplot as plt\n",
    "import string\n",
    "from textblob import TextBlob\n",
    "from nltk.metrics import *\n",
    "from string import punctuation\n",
    "import warnings\n",
    "warnings.filterwarnings(\"ignore\")"
   ]
  },
  {
   "cell_type": "markdown",
   "id": "744cf8ed",
   "metadata": {},
   "source": [
    "Prenem com a mostra 2 textes de noticies sobre el 4th of July de 2 mitjans, Fox News i de MSNBC en anglès, per veure si son neutrals en el seu llenguatge i si hi podem veure en la seva polaritat o un biaix. Comparant la mateixa noticia espero poder per veure si l'anàlisi de sentiment es diferent d'un tipus de noticia a una altre. Els he tret d'aquestes webs: \n",
    "https://www.foxnews.com/lifestyle/july-4-remember-blessing-living-most-free-prosperous-society-earth\n",
    "https://www.msnbc.com/opinion/msnbc-opinion/freedom-under-attack-fourth-july-rcna92412\n"
   ]
  },
  {
   "cell_type": "code",
   "execution_count": 2,
   "id": "ef59cfd6",
   "metadata": {},
   "outputs": [
    {
     "name": "stdout",
     "output_type": "stream",
     "text": [
      "On July 4, 'remember the blessing of living in the most free and prosperous society' on Earth\n",
      "Faith leader, on Independence Day, reminds Americans that we do not worship 'a god called government'A man of faith is counting his blessings this July 4th — and sharing key reminders for all about the creation of our country. \n",
      "\"The United States is unique in world history and its founding is the greatest of all human endeavors,\" Rabbi Pinchas Taylor of Plantation, Florida, told Fox News Digital in emailed comments.\n",
      "\"The formation of the United States is the pivotal event of the last four centuries — and no other national story has more profound lessons for both the American people and the rest of humanity,\" he said.\n",
      "AMERICAN FLAGS FOR FAMILIES, FRIENDS AND NEIGHBORS ARE AT THE HEART OF THIS ENDEAVOR \n",
      "Rabbi Taylor, a father of seven, noted that \"observers of all faiths — and of no faith — can discern signs of destiny’s direction in the formation of America.\"\n",
      "Said Taylor, \"While many nations progressively evolved into democratic societies over centuries, the United States was the first nation to be founded upon democracy.\"Taylor said that \"scholars usually acknowledge the influence of the Hebrew Bible, ethical ideals and spiritual beliefs on American political tradition.\"\n",
      "That includes, he said, \"the belief in one God, that He demands righteousness, and that we are made in God's image.\"\n",
      "JULY 4TH QUIZ! HOW WELL DO YOU KNOW YOUR FACTS ABOUT INDEPENDENCE DAY? \n",
      "Said Taylor, \"Even those within the founding age who were less religiously devout looked to the Bible for understandings of human nature, civic virtue, social order, political authority and other ideas crucial to the foundation of a new political society.\"\n",
      "Even those within the founding age who were less religiously devout looked to the Bible for understandings of human nature, civic virtue, social order\" and more.\n",
      "And \"many people,\" he added, \"felt that the political and legal structures found in Scripture, such as the separation of powers and the rule of law, enjoyed divine favor and should be imitated in modern democracies.\"\n",
      "‘THE JEFFERSON BIBLE’ SPOTLIGHTS COMPLEX FAITH, REMARKABLE INTELLECT OF FOUNDING FATHER\n",
      "Taylor said he finds it \"fascinating\" that the Declaration of Independence \"refers to ‘all men being created equal’ as a ‘self-evident’ truth.\"\n",
      "Said Taylor, \"Most societies in most times have not subscribed to that. This is only ‘self-evident’ to those who would subscribe to the biblical idea that God created human beings equally in his image.\"\n",
      "He added, \"If they were not created equally, they certainly evolved unequally. There is no basis for democracy except grounded in belief about the divine origin of man.\"\n",
      "Taylor said, \"Thus, it was a Declaration of Independence from Britain, and a bold ‘Declaration of Dependence’ upon God. Likewise, as President John Adams famously noted, ‘Our Constitution was made only for a moral and religious people. It is wholly inadequate to the government of any other.’\"\n",
      "MEET THE AMERICAN WHO WROTE ‘AMERICA THE BEAUTIFUL,' KATHARINE LEE BATES, PROFESSOR-POET PRAYED FOR UNITY\n",
      "Taylor pointed out that the United States has been a nation of faith from its earliest days.\n",
      "\"The early settlers viewed their emigration from England as a reenactment of the Israelites exodus from Egypt. The Kings of England were the pharaohs, and the Atlantic Ocean was the Red Sea taking them to America, their new promised land.\"\n",
      "Said Taylor, \"When the Continental Congress named the first committee to design a great seal, or national emblem, for the country, Benjamin Franklin and Thomas Jefferson chose an allegorical scene with Moses standing on the shore, extending his hand over the sea.\"\n",
      "The rabbi also pointed that the Liberty Bell \"is etched with a biblical verse. Throughout the following century, the art, symbols and literature in the fight for abolition were saturated with Moses’ symbolism and biblical texts like ‘Let my people go!’\" \n",
      "Said Taylor, \"The role of biblical values in America's founding is indisputable — and the success of the American experiment is undergirded by a worldview based in the Hebrew Bible.\"\n",
      "He said that \"strengthening our connection with the biblical values etched in the America’s history\" will help all Americans \"properly shape\" our country's destiny.\n",
      "\"Both our Founding Fathers and the Hebrew Bible believed that morality comes from God — and income comes from personal decisions\" the individual makes.  \n",
      "Said Taylor, \"Some today would like to push for the opposite, that income should come from the god called government.\" \n",
      "He added, \"Both our Founding Fathers and the Hebrew Bible teach that respectful discussion helps us arrive at an essential truth, whereas some in contemporary America have already decided their truth, so there's no need for discussion.\"\n",
      "\"We are endowed by our Creator with certain unalienable rights and a divine mission.\"\n",
      "Noted Rabbi Taylor, \"Both the Founding Fathers and the Hebrew Bible believe that you are strong, capable and responsible for your own destiny — whereas some today would preach that you are weak and simply a victim of circumstance.\"\n",
      "Taylor said, \"This July 4th would be an ideal opportunity to remember the blessing that it is to live in the most free and prosperous society in the history of the world, to remember that we are endowed by our Creator with certain unalienable rights and a divine mission — and that we should embody the words of Abraham Lincoln that we are ‘an almost-chosen people’ in an ‘almost chosen land.’\"\n",
      "\n"
     ]
    }
   ],
   "source": [
    "politicsFox=\"\"\"On July 4, 'remember the blessing of living in the most free and prosperous society' on Earth\n",
    "Faith leader, on Independence Day, reminds Americans that we do not worship 'a god called government'A man of faith is counting his blessings this July 4th — and sharing key reminders for all about the creation of our country. \n",
    "\"The United States is unique in world history and its founding is the greatest of all human endeavors,\" Rabbi Pinchas Taylor of Plantation, Florida, told Fox News Digital in emailed comments.\n",
    "\"The formation of the United States is the pivotal event of the last four centuries — and no other national story has more profound lessons for both the American people and the rest of humanity,\" he said.\n",
    "AMERICAN FLAGS FOR FAMILIES, FRIENDS AND NEIGHBORS ARE AT THE HEART OF THIS ENDEAVOR \n",
    "Rabbi Taylor, a father of seven, noted that \"observers of all faiths — and of no faith — can discern signs of destiny’s direction in the formation of America.\"\n",
    "Said Taylor, \"While many nations progressively evolved into democratic societies over centuries, the United States was the first nation to be founded upon democracy.\"Taylor said that \"scholars usually acknowledge the influence of the Hebrew Bible, ethical ideals and spiritual beliefs on American political tradition.\"\n",
    "That includes, he said, \"the belief in one God, that He demands righteousness, and that we are made in God's image.\"\n",
    "JULY 4TH QUIZ! HOW WELL DO YOU KNOW YOUR FACTS ABOUT INDEPENDENCE DAY? \n",
    "Said Taylor, \"Even those within the founding age who were less religiously devout looked to the Bible for understandings of human nature, civic virtue, social order, political authority and other ideas crucial to the foundation of a new political society.\"\n",
    "Even those within the founding age who were less religiously devout looked to the Bible for understandings of human nature, civic virtue, social order\" and more.\n",
    "And \"many people,\" he added, \"felt that the political and legal structures found in Scripture, such as the separation of powers and the rule of law, enjoyed divine favor and should be imitated in modern democracies.\"\n",
    "‘THE JEFFERSON BIBLE’ SPOTLIGHTS COMPLEX FAITH, REMARKABLE INTELLECT OF FOUNDING FATHER\n",
    "Taylor said he finds it \"fascinating\" that the Declaration of Independence \"refers to ‘all men being created equal’ as a ‘self-evident’ truth.\"\n",
    "Said Taylor, \"Most societies in most times have not subscribed to that. This is only ‘self-evident’ to those who would subscribe to the biblical idea that God created human beings equally in his image.\"\n",
    "He added, \"If they were not created equally, they certainly evolved unequally. There is no basis for democracy except grounded in belief about the divine origin of man.\"\n",
    "Taylor said, \"Thus, it was a Declaration of Independence from Britain, and a bold ‘Declaration of Dependence’ upon God. Likewise, as President John Adams famously noted, ‘Our Constitution was made only for a moral and religious people. It is wholly inadequate to the government of any other.’\"\n",
    "MEET THE AMERICAN WHO WROTE ‘AMERICA THE BEAUTIFUL,' KATHARINE LEE BATES, PROFESSOR-POET PRAYED FOR UNITY\n",
    "Taylor pointed out that the United States has been a nation of faith from its earliest days.\n",
    "\"The early settlers viewed their emigration from England as a reenactment of the Israelites exodus from Egypt. The Kings of England were the pharaohs, and the Atlantic Ocean was the Red Sea taking them to America, their new promised land.\"\n",
    "Said Taylor, \"When the Continental Congress named the first committee to design a great seal, or national emblem, for the country, Benjamin Franklin and Thomas Jefferson chose an allegorical scene with Moses standing on the shore, extending his hand over the sea.\"\n",
    "The rabbi also pointed that the Liberty Bell \"is etched with a biblical verse. Throughout the following century, the art, symbols and literature in the fight for abolition were saturated with Moses’ symbolism and biblical texts like ‘Let my people go!’\" \n",
    "Said Taylor, \"The role of biblical values in America's founding is indisputable — and the success of the American experiment is undergirded by a worldview based in the Hebrew Bible.\"\n",
    "He said that \"strengthening our connection with the biblical values etched in the America’s history\" will help all Americans \"properly shape\" our country's destiny.\n",
    "\"Both our Founding Fathers and the Hebrew Bible believed that morality comes from God — and income comes from personal decisions\" the individual makes.  \n",
    "Said Taylor, \"Some today would like to push for the opposite, that income should come from the god called government.\" \n",
    "He added, \"Both our Founding Fathers and the Hebrew Bible teach that respectful discussion helps us arrive at an essential truth, whereas some in contemporary America have already decided their truth, so there's no need for discussion.\"\n",
    "\"We are endowed by our Creator with certain unalienable rights and a divine mission.\"\n",
    "Noted Rabbi Taylor, \"Both the Founding Fathers and the Hebrew Bible believe that you are strong, capable and responsible for your own destiny — whereas some today would preach that you are weak and simply a victim of circumstance.\"\n",
    "Taylor said, \"This July 4th would be an ideal opportunity to remember the blessing that it is to live in the most free and prosperous society in the history of the world, to remember that we are endowed by our Creator with certain unalienable rights and a divine mission — and that we should embody the words of Abraham Lincoln that we are ‘an almost-chosen people’ in an ‘almost chosen land.’\"\n",
    "\"\"\"\n",
    "print(politicsFox)"
   ]
  },
  {
   "cell_type": "code",
   "execution_count": 3,
   "id": "38989988",
   "metadata": {},
   "outputs": [
    {
     "name": "stdout",
     "output_type": "stream",
     "text": [
      "Seeing the erosion of our freedoms makes it hard to celebrate this Fourth of July\n",
      "The Supreme Court, conservative governors and gerrymandered state legislatures are racing to shrink our fundamental rights and freedoms\n",
      "Despite the promises of America’s founding documents, on Independence Day 2023, justice, the “general welfare,” “equal protection of the laws” and “life, liberty and the pursuit of happiness” are all at risk. The Supreme Court, conservative governors and gerrymandered state legislatures are racing to shrink fundamental rights and freedoms, enabled and empowered by structural inequities built into the Constitution. The result is that tens of millions of Americans are being deprived of rights that other Americans have.\n",
      "On Independence Day 2023, justice, the “general welfare,” “equal protection of the laws” and “life, liberty and the pursuit of happiness” are all at risk.\n",
      "The scale of the disparity is frightening and growing, taking us ever further from America’s founding ideal that “all men are created equal” and its continuing journey toward equal rights for all.\n",
      "The marquee setback came last year with the high court’s Dobbs decision, which erased a constitutional right that had been in place for nearly half a century. A year later, free to do as they pleased, 14 states fully banned abortion, and a 15th, Georgia, banned it after six weeks of pregnancy (before many women know they are pregnant). At the same time, 20 states where abortion is legal added protections over the past year.\n",
      "While abortion is a particularly stark example of the democracy divide, U.S. courts and state legislatures are advancing inequality of rights in countless other ways: from last week’s Supreme Court decisions allowing a prospective wedding website designer to refuse services to hypothetical same-sex couples and removing race from the many factors colleges and universities use to assemble diverse student bodies to states’ trying to restrict and ban medical care for transgender people, discussions of gay issues in classrooms and which books can be accessed in libraries.\n",
      "The solution in many cases is federal legislation, which would require, at minimum, Democrats to reclaim a House majority next year. The party would also have to elect 50 or more senators willing to abolish the filibuster, at least in cases when America’s most sacred promises are threatened.\n",
      "Here are the inequities that divide the nation most egregiously on Independence Day and are most in need of congressional action:\n",
      "Voting. Some states make it much harder to vote than others. Why is that allowed? Congress should enact a national law on ballot access and election protection. It already has a vehicle in the 2021 Freedom to Vote Act, based on a bill proposed by Sen. Joe Manchin, D-W.Va., which would make Election Day a holiday and set minimum standards for mail voting, early voting, drop boxes and voter ID and address partisan gerrymandering, voter roll purges, interference with election workers and other issues..\n",
      "Republicans refused to buy in to the bill last year, and Manchin refused to abandon the Senate filibuster tradition, which requires 60 senators to advance a bill. But other Democrats could make resistance from Manchin and Kyrsten Sinema, I-Ariz., less relevant. Sen. John Fetterman, D-Pa., is a filibuster opponent, and some 2024 Democrats are running on a promise to end it.Abortion. Congress should codify Roe v. Wade, the 1973 Supreme Court decision that legalized abortion up to fetal viability. For decades, this ruling allowed doctors to deliver the best medical care possible. Now that abortion is a crime in so many states, doctors fear losing their licenses or going to prison, and the choice for women with doomed or dangerous pregnancies is to leave the state for treatment or wait until they are at death’s door, at which point doctors may decide it’s legal to end their pregnancies. Roe also accommodated many religious views about abortion, not just those of conservatives who insist on bans.\n",
      "Sending the issue to the states guaranteed massive infringements on personal privacy and self-determination.\n",
      "The First Amendment promotes respect for all religions (or no religion), but by overturning Roe, the Supreme Court freed states to violate that principle. (The court itself just last week violated that principle by blessing a Christian conservative’s desire to deny gay people service on religious grounds.)\n",
      "Sending the issue to the states guaranteed massive infringements on personal privacy and self-determination, health risks for women and girls and vast gulfs in access. Why should women in Texas risk infertility, disability and death under the state’s bans while women in California (Americans just like them) have safe access to the full range of reproductive care? How is that equal protection?\n",
      "We are even seeing attempts to ban interstate travel for abortion care and to make it harder to put abortion rights on the ballot for voters to decide directly. How is that freedom? A right so significant it was until recently a constitutional right should not be decided by state legislatures.\n",
      "Reactions to Supreme Court's major blow to LGBTQ rights\n",
      "Guns. As eagerly as the Supreme Court tossed abortion to the states a year ago, in its Bruen decision the same month, it ran roughshod over state regulation of guns. In that ruling, the court said regulations must be consistent with “history and tradition” from centuries ago. Federal judges of all political stripes are finding this unworkable, absurd, illogical and exclusionary (given that women and nonwhite people could not vote centuries ago), as well as disrespectful to the nation’s 18th-century founders.\n"
     ]
    }
   ],
   "source": [
    "politics = \"\"\"Seeing the erosion of our freedoms makes it hard to celebrate this Fourth of July\n",
    "The Supreme Court, conservative governors and gerrymandered state legislatures are racing to shrink our fundamental rights and freedoms\n",
    "Despite the promises of America’s founding documents, on Independence Day 2023, justice, the “general welfare,” “equal protection of the laws” and “life, liberty and the pursuit of happiness” are all at risk. The Supreme Court, conservative governors and gerrymandered state legislatures are racing to shrink fundamental rights and freedoms, enabled and empowered by structural inequities built into the Constitution. The result is that tens of millions of Americans are being deprived of rights that other Americans have.\n",
    "On Independence Day 2023, justice, the “general welfare,” “equal protection of the laws” and “life, liberty and the pursuit of happiness” are all at risk.\n",
    "The scale of the disparity is frightening and growing, taking us ever further from America’s founding ideal that “all men are created equal” and its continuing journey toward equal rights for all.\n",
    "The marquee setback came last year with the high court’s Dobbs decision, which erased a constitutional right that had been in place for nearly half a century. A year later, free to do as they pleased, 14 states fully banned abortion, and a 15th, Georgia, banned it after six weeks of pregnancy (before many women know they are pregnant). At the same time, 20 states where abortion is legal added protections over the past year.\n",
    "While abortion is a particularly stark example of the democracy divide, U.S. courts and state legislatures are advancing inequality of rights in countless other ways: from last week’s Supreme Court decisions allowing a prospective wedding website designer to refuse services to hypothetical same-sex couples and removing race from the many factors colleges and universities use to assemble diverse student bodies to states’ trying to restrict and ban medical care for transgender people, discussions of gay issues in classrooms and which books can be accessed in libraries.\n",
    "The solution in many cases is federal legislation, which would require, at minimum, Democrats to reclaim a House majority next year. The party would also have to elect 50 or more senators willing to abolish the filibuster, at least in cases when America’s most sacred promises are threatened.\n",
    "Here are the inequities that divide the nation most egregiously on Independence Day and are most in need of congressional action:\n",
    "Voting. Some states make it much harder to vote than others. Why is that allowed? Congress should enact a national law on ballot access and election protection. It already has a vehicle in the 2021 Freedom to Vote Act, based on a bill proposed by Sen. Joe Manchin, D-W.Va., which would make Election Day a holiday and set minimum standards for mail voting, early voting, drop boxes and voter ID and address partisan gerrymandering, voter roll purges, interference with election workers and other issues..\n",
    "Republicans refused to buy in to the bill last year, and Manchin refused to abandon the Senate filibuster tradition, which requires 60 senators to advance a bill. But other Democrats could make resistance from Manchin and Kyrsten Sinema, I-Ariz., less relevant. Sen. John Fetterman, D-Pa., is a filibuster opponent, and some 2024 Democrats are running on a promise to end it.Abortion. Congress should codify Roe v. Wade, the 1973 Supreme Court decision that legalized abortion up to fetal viability. For decades, this ruling allowed doctors to deliver the best medical care possible. Now that abortion is a crime in so many states, doctors fear losing their licenses or going to prison, and the choice for women with doomed or dangerous pregnancies is to leave the state for treatment or wait until they are at death’s door, at which point doctors may decide it’s legal to end their pregnancies. Roe also accommodated many religious views about abortion, not just those of conservatives who insist on bans.\n",
    "Sending the issue to the states guaranteed massive infringements on personal privacy and self-determination.\n",
    "The First Amendment promotes respect for all religions (or no religion), but by overturning Roe, the Supreme Court freed states to violate that principle. (The court itself just last week violated that principle by blessing a Christian conservative’s desire to deny gay people service on religious grounds.)\n",
    "Sending the issue to the states guaranteed massive infringements on personal privacy and self-determination, health risks for women and girls and vast gulfs in access. Why should women in Texas risk infertility, disability and death under the state’s bans while women in California (Americans just like them) have safe access to the full range of reproductive care? How is that equal protection?\n",
    "We are even seeing attempts to ban interstate travel for abortion care and to make it harder to put abortion rights on the ballot for voters to decide directly. How is that freedom? A right so significant it was until recently a constitutional right should not be decided by state legislatures.\n",
    "Reactions to Supreme Court's major blow to LGBTQ rights\n",
    "Guns. As eagerly as the Supreme Court tossed abortion to the states a year ago, in its Bruen decision the same month, it ran roughshod over state regulation of guns. In that ruling, the court said regulations must be consistent with “history and tradition” from centuries ago. Federal judges of all political stripes are finding this unworkable, absurd, illogical and exclusionary (given that women and nonwhite people could not vote centuries ago), as well as disrespectful to the nation’s 18th-century founders.\"\"\"\n",
    "print(politics)"
   ]
  },
  {
   "cell_type": "markdown",
   "id": "44e1e066",
   "metadata": {},
   "source": [
    "### Preprocessat"
   ]
  },
  {
   "cell_type": "code",
   "execution_count": 4,
   "id": "ba0f35f5",
   "metadata": {},
   "outputs": [],
   "source": [
    "tokenspolFox = word_tokenize(politicsFox)\n",
    "tokenspol = word_tokenize(politics)\n",
    "## Convertim tots els tokens de la llista en minúscules si son caractes alfabétics.\n",
    "tokenspol = [token.lower() for token in tokenspol if token.isalpha()]\n",
    "tokenspolFox = [token.lower() for token in tokenspolFox if token.isalpha()]\n"
   ]
  },
  {
   "cell_type": "code",
   "execution_count": 5,
   "id": "33ab5092",
   "metadata": {},
   "outputs": [
    {
     "name": "stdout",
     "output_type": "stream",
     "text": [
      "<FreqDist with 411 samples and 898 outcomes>\n",
      "<FreqDist with 382 samples and 889 outcomes>\n"
     ]
    }
   ],
   "source": [
    "#Miro si son mostres similars amb la freqüencia de les paraules.\n",
    "fdistpol = FreqDist(tokenspol) #Mirem la frequencia de les paraules a l'article de política de MSNBC\n",
    "fdistpolFox = FreqDist(tokenspolFox)#Mirem la frequencia de les paraules a l'article de politica de Fox\n",
    "print(fdistpol)\n",
    "print(fdistpolFox)"
   ]
  },
  {
   "cell_type": "code",
   "execution_count": 6,
   "id": "b51ce844",
   "metadata": {},
   "outputs": [
    {
     "data": {
      "image/png": "[encoded data removed]",
      "text/plain": [
       "<Figure size 720x576 with 1 Axes>"
      ]
     },
     "metadata": {
      "needs_background": "light"
     },
     "output_type": "display_data"
    },
    {
     "data": {
      "image/png": "[encoded data removed]",
      "text/plain": [
       "<Figure size 720x576 with 1 Axes>"
      ]
     },
     "metadata": {
      "needs_background": "light"
     },
     "output_type": "display_data"
    }
   ],
   "source": [
    "import matplotlib.pyplot as plt\n",
    "# Grafiquem les 20 paraules mes frequents en l'article de la BBC\n",
    "paraules_comuns = fdistpol.most_common(20)\n",
    "words = [word[0] for word in paraules_comuns]\n",
    "counts = [count[1] for count in paraules_comuns]\n",
    "plt.figure(figsize=(10, 8))\n",
    "plt.barh(words, counts)\n",
    "plt.xlabel('Freqüència')\n",
    "plt.ylabel('Paraules')\n",
    "plt.title('Freqüència de paraules a la noticia sobre 4th of July de la MSNBC')\n",
    "plt.show()\n",
    "# Grafiquem les 20 paraules mes comuns en l'article de The Sun\n",
    "paraules_comuns = fdistpolFox.most_common(20)\n",
    "words = [word[0] for word in paraules_comuns]\n",
    "counts = [count[1] for count in paraules_comuns]\n",
    "plt.figure(figsize=(10, 8))\n",
    "plt.barh(words, counts)\n",
    "plt.xlabel('Freqüència')\n",
    "plt.ylabel('Paraules')\n",
    "plt.title('Freqüència de paraules a la noticia sobre 4th of July de Fox')\n",
    "plt.show()"
   ]
  },
  {
   "cell_type": "markdown",
   "id": "4d37bc88",
   "metadata": {},
   "source": [
    "## Exercici 2\n",
    "Treu les stopwords i realitza stemming al teu conjunt de dades."
   ]
  },
  {
   "cell_type": "code",
   "execution_count": 7,
   "id": "cfddc782",
   "metadata": {},
   "outputs": [],
   "source": [
    "#Treiem les stop_words i fem  un texte sense les stopwords en anglès \n",
    "stop_words = set(stopwords.words('english'))\n",
    "tokens_sense_stopwordspol = [token for token in tokenspol if token not in stop_words]\n",
    "tokens_sense_stopwordspolFox = [token for token in tokenspolFox if token not in stop_words]"
   ]
  },
  {
   "cell_type": "code",
   "execution_count": 8,
   "id": "6a6eb8e7",
   "metadata": {},
   "outputs": [],
   "source": [
    "#Reduim les paraules/tokens a la seva base o forma en el diccionari\n",
    "lemmatizer = WordNetLemmatizer()\n",
    "tokens_lemmapol = [lemmatizer.lemmatize(token) for token in tokens_sense_stopwordspol]\n",
    "tokens_lemmapolFox = [lemmatizer.lemmatize(token) for token in tokens_sense_stopwordspolFox]"
   ]
  },
  {
   "cell_type": "code",
   "execution_count": 9,
   "id": "2121bdfe",
   "metadata": {},
   "outputs": [],
   "source": [
    "#Reduim les paraules/tokens que queden a la seva arrel \n",
    "ps = PorterStemmer()\n",
    "tokens_stemmingpol = [ps.stem(token) for token in tokens_lemmapol]\n",
    "tokens_stemmingpolFox = [ps.stem(token) for token in tokens_lemmapolFox]"
   ]
  },
  {
   "cell_type": "code",
   "execution_count": 10,
   "id": "d3bf0851",
   "metadata": {},
   "outputs": [],
   "source": [
    "fdist_stemmingpol = FreqDist(tokens_stemmingpol) #Mirem la frequencia de les paraules a l'article de política de la BBC\n",
    "fdist_stemmingpolFox = FreqDist(tokens_stemmingpolFox) #Mirem la frequencia de les paraules a l'article de politic"
   ]
  },
  {
   "cell_type": "code",
   "execution_count": 11,
   "id": "fd489b28",
   "metadata": {},
   "outputs": [
    {
     "data": {
      "image/png": "[encoded data removed]",
      "text/plain": [
       "<Figure size 720x432 with 2 Axes>"
      ]
     },
     "metadata": {
      "needs_background": "light"
     },
     "output_type": "display_data"
    },
    {
     "data": {
      "image/png": "[encoded data removed]",
      "text/plain": [
       "<Figure size 720x432 with 2 Axes>"
      ]
     },
     "metadata": {
      "needs_background": "light"
     },
     "output_type": "display_data"
    }
   ],
   "source": [
    "import numpy as np\n",
    "import matplotlib.pyplot as plt\n",
    "\n",
    "# Politics heatmap\n",
    "words_pol = [word for word, freq in fdist_stemmingpol.most_common(30)]\n",
    "frequencies_pol = np.array([freq for word, freq in fdist_stemmingpol.most_common(30)]).reshape(1, -1)\n",
    "fig, ax = plt.subplots(figsize=(10, 6))\n",
    "heatmap_pol = ax.imshow(frequencies_pol, cmap='YlOrRd')\n",
    "ax.set_xticks(np.arange(len(words_pol)))\n",
    "ax.set_xticklabels(words_pol, rotation=90)\n",
    "for i in range(len(words_pol)):\n",
    "    ax.text(i, 0, frequencies_pol[0][i], ha='center', va='center', color='black')\n",
    "ax.set_title('Freqüència de paraules a la notícia sobre el 4th of July a MSNBC')\n",
    "ax.set_xlabel('Paraules')\n",
    "ax.set_ylabel('Freqüència')\n",
    "cbar_pol = plt.colorbar(heatmap_pol)\n",
    "cbar_pol.set_label('Freqüència')\n",
    "\n",
    "# Entertainment heatmap\n",
    "words_ent = [word for word, freq in fdist_stemmingpolFox.most_common(30)]\n",
    "frequencies_ent = np.array([freq for word, freq in fdist_stemmingpolFox.most_common(30)]).reshape(1, -1)\n",
    "fig, ax = plt.subplots(figsize=(10, 6))\n",
    "heatmap_ent = ax.imshow(frequencies_ent, cmap='YlOrRd')\n",
    "ax.set_xticks(np.arange(len(words_ent)))\n",
    "ax.set_xticklabels(words_ent, rotation=90)\n",
    "for i in range(len(words_ent)):\n",
    "    ax.text(i, 0, frequencies_ent[0][i], ha='center', va='center', color='black')\n",
    "ax.set_title('Freqüència de paraules a la notícia sobre el 4th of July a Fox')\n",
    "ax.set_xlabel('Paraules')\n",
    "ax.set_ylabel('Freqüència')\n",
    "cbar_ent = plt.colorbar(heatmap_ent)\n",
    "cbar_ent.set_label('Freqüència')\n",
    "\n",
    "plt.tight_layout()\n",
    "plt.show()"
   ]
  },
  {
   "cell_type": "markdown",
   "id": "ae5b1078",
   "metadata": {},
   "source": [
    "- Amb les paraules mes freqüents podem veure que l'article de FOX lliga molt el 4th of July amb religió (bible, god,faith, biblic, etc)) la qual cosa ens pot indicar un biaix\n",
    "- Alhora l'article de MSNBC lliga el 4th of July amb les darreres noticies sobre el abort, el suprem, les dones i la llibertat...que també indica un biaix polític. \n",
    "- Mirem a continuació la diversitat Lexica, (A lower lexical diversity can indicate a more one-sided perspective.)Amb el rati de paraules uniques utilitzades."
   ]
  },
  {
   "cell_type": "code",
   "execution_count": 38,
   "id": "e691272c",
   "metadata": {},
   "outputs": [
    {
     "name": "stdout",
     "output_type": "stream",
     "text": [
      "The type-token ratio is: 0.657088122605364\n",
      "The type-token ratio for Fox is: 0.6402439024390244\n"
     ]
    }
   ],
   "source": [
    "token_count = len(tokens_sense_stopwordspol)\n",
    "token_countFox = len(tokens_sense_stopwordspolFox)\n",
    "unique_words = set(tokens_sense_stopwordspol) \n",
    "unique_wordsFox = set(tokens_sense_stopwordspolFox)  \n",
    "type_count = len(unique_words)\n",
    "type_countFox = len(unique_wordsFox)\n",
    "ttr = type_count / token_count\n",
    "ttrFox = type_countFox / token_countFox\n",
    "print(f\"The type-token ratio is: {ttr}\")\n",
    "print(f\"The type-token ratio for Fox is: {ttrFox}\")"
   ]
  },
  {
   "cell_type": "markdown",
   "id": "56a1e3f3",
   "metadata": {},
   "source": [
    " ## Exercici 3\n",
    "Realitza sentiment analysis al teu conjunt de dades."
   ]
  },
  {
   "cell_type": "code",
   "execution_count": 12,
   "id": "cab3c2d6",
   "metadata": {},
   "outputs": [
    {
     "name": "stdout",
     "output_type": "stream",
     "text": [
      "L'article de politica de la MSNBC presenta la seguents caracteristiques: {'neg': 0.086, 'neu': 0.79, 'pos': 0.124, 'compound': 0.9903}\n",
      "L'article de politica de Fox presenta la seguents caracteristiques: {'neg': 0.024, 'neu': 0.787, 'pos': 0.189, 'compound': 0.9994}\n"
     ]
    }
   ],
   "source": [
    "from nltk.sentiment import SentimentIntensityAnalyzer\n",
    "sia = SentimentIntensityAnalyzer()\n",
    "sentimentpol = sia.polarity_scores(politics)\n",
    "sentimentpolFox = sia.polarity_scores(politicsFox)\n",
    "print(\"L'article de politica de la MSNBC presenta la seguents caracteristiques:\",sentimentpol)\n",
    "print(\"L'article de politica de Fox presenta la seguents caracteristiques:\",sentimentpolFox)"
   ]
  },
  {
   "cell_type": "markdown",
   "id": "bf5068fe",
   "metadata": {},
   "source": [
    "--- Basant-nos en les característiques a cada article de política, podem treure les següents conclusions: \n",
    "- **L'article de política de la MSNBC** té un sentiment predominantment neutre (0.791), amb una petita quantitat de contingut negatiu (0.086) i petita quantitat també de positiu (0.123). El valor de \"compound\" (0.9903) indica que en conjunt, l'article té una orientació positiva.\n",
    "\n",
    "- **L'article de política de Fox** també té un sentiment predominantment neutre (0.787), amb una quantitat lleugerament menor de contingut negatiu (0.024) i mes contingut positiu que l'altre article (0.189). El valor de \"compound\" (0.9994) indica que en conjunt, l'article té una orientació positiva una mica més gran a l'article de la MSNBC.\n",
    "\n",
    "Aquests resultats ens indiquen que tant l'article de la BBC com l'article del Sun tenen un to neutre en general, però FOX te un contingut mes positiu sobre el dia de la independencia, 4th of July"
   ]
  },
  {
   "cell_type": "markdown",
   "id": "3c9a3700",
   "metadata": {},
   "source": [
    "Amb TextBlob podem mirar també la polaritat del sentiments i la subjetivitat dels articles:\n",
    "**polaritat** es un nombre entre [-1.0 i el 1.0] on 0 indica neutral, +1 indica un sentiment molt positiu i -1 representa sentiment molt negatiu.\n",
    "**subjetivitat** es un nombre entre el 0 (molt objectiu) i el 1(molt subjectiu) \"Subjective sentence expresses some personal feelings, views, beliefs, opinions, allegations, desires, beliefs, suspicions, and speculations where as Objective sentences are factual.\""
   ]
  },
  {
   "cell_type": "code",
   "execution_count": 13,
   "id": "8c702383",
   "metadata": {},
   "outputs": [
    {
     "name": "stdout",
     "output_type": "stream",
     "text": [
      "Subjectivitat del article de 4th July de la MSNBC (stemmed): 0.3925761124121779\n",
      "Polaritat del article de 4th July de la MSNBC (stemmed): 0.14386026541764252\n",
      "Subjectivitat del article de 4th July de FOX (stemmed): 0.40028383566119413\n",
      "Polaritat del article de 4th July de FOX (stemmed): 0.1370211549456833\n"
     ]
    }
   ],
   "source": [
    "from textblob import TextBlob\n",
    "\n",
    "# Create TextBlob objects\n",
    "textblob_pol = TextBlob(\" \".join(tokens_stemmingpol))\n",
    "textblob_polFox = TextBlob(\" \".join(tokens_stemmingpolFox))\n",
    "\n",
    "# Get the subjectivity and polarity\n",
    "subjectivity_pol = textblob_pol.subjectivity\n",
    "polarity_pol = textblob_pol.polarity\n",
    "\n",
    "subjectivity_polFox = textblob_polFox.subjectivity\n",
    "polarity_polFox = textblob_polFox.polarity\n",
    "\n",
    "print(\"Subjectivitat del article de 4th July de la MSNBC (stemmed):\", subjectivity_pol)\n",
    "print(\"Polaritat del article de 4th July de la MSNBC (stemmed):\", polarity_pol)\n",
    "\n",
    "print(\"Subjectivitat del article de 4th July de FOX (stemmed):\", subjectivity_polFox)\n",
    "print(\"Polaritat del article de 4th July de FOX (stemmed):\", polarity_polFox)\n"
   ]
  },
  {
   "cell_type": "markdown",
   "id": "5c9a3504",
   "metadata": {},
   "source": [
    "Els articles de MSNBC i FOX del 4 de juliol mostren un nivell moderat de subjectivitat. Les puntuacions de polaritat indiquen sentiments lleugerament positius per als dos articles, amb l'article de MSNBC inclinat més cap a la positivitat i l'article de FOX també amb un sentiment positiu, però en una mesura una mica menor.\n",
    "\n",
    "Per tant amb aquestes dades Tant amb TextBlob com en SentimentIntensityAnalyzer no ens donava massa diferències.\n",
    "Es podria fer per exemple  un bucle i analitzar tots els articles d'una determinada noticia en diferents mitjans i trobar els articles mes objectius."
   ]
  },
  {
   "cell_type": "code",
   "execution_count": 36,
   "id": "1aaa22c2",
   "metadata": {},
   "outputs": [
    {
     "name": "stdout",
     "output_type": "stream",
     "text": [
      "La puntuació de similaritat és: 0.11886792452830186\n"
     ]
    }
   ],
   "source": [
    "# També podem mirar la similaritat dels 2 articles amb Jaccard:\n",
    "from nltk import jaccard_distance\n",
    "# També podem mirar la similaritat dels 2 articles amb Jaccard:\n",
    "def compare_similarity(text1, text2):\n",
    "    jaccard_sim = jaccard_distance(set(tokens_stemmingpol), set(tokens_stemmingpolFox))\n",
    "    return 1 - jaccard_sim\n",
    "\n",
    "print(f\"La puntuació de similaritat és: {similarity_score}\")"
   ]
  },
  {
   "cell_type": "markdown",
   "id": "15d06a46",
   "metadata": {},
   "source": [
    "La puntuació de similaritat de jaccard va de 0 a 1. Per tant aquesta puntuació suggereix molt poca similaritat entre els dos articles d'una mateixa noticia. Això significa una polarització de la noticia, que els articles representen diferents perspectives en un mateix fet.\n",
    "La polarització en la cobertura informativa fa referència a la divergència de punts de vista i la presentació de la informació d'una manera que s'alinea amb una posició ideològica o partidista específica."
   ]
  },
  {
   "cell_type": "markdown",
   "id": "9679e476",
   "metadata": {},
   "source": [
    "- #### Fem un anàlisi per frases per veure si canvia el resultat:"
   ]
  },
  {
   "cell_type": "code",
   "execution_count": 17,
   "id": "f0a9291d",
   "metadata": {},
   "outputs": [],
   "source": [
    "# Separem el texte en frases\n",
    "lower_politics=politics.lower()\n",
    "frases = nltk.sent_tokenize(lower_politics)\n",
    "frases_data = pd.DataFrame({'Frases MSNBC': frases})"
   ]
  },
  {
   "cell_type": "code",
   "execution_count": 19,
   "id": "87a92f4e",
   "metadata": {},
   "outputs": [
    {
     "data": {
      "text/html": [
       "<div>\n",
       "<style scoped>\n",
       "    .dataframe tbody tr th:only-of-type {\n",
       "        vertical-align: middle;\n",
       "    }\n",
       "\n",
       "    .dataframe tbody tr th {\n",
       "        vertical-align: top;\n",
       "    }\n",
       "\n",
       "    .dataframe thead th {\n",
       "        text-align: right;\n",
       "    }\n",
       "</style>\n",
       "<table border=\"1\" class=\"dataframe\">\n",
       "  <thead>\n",
       "    <tr style=\"text-align: right;\">\n",
       "      <th></th>\n",
       "      <th>Frases MSNBC</th>\n",
       "      <th>Frases_netes MSNBC</th>\n",
       "    </tr>\n",
       "  </thead>\n",
       "  <tbody>\n",
       "    <tr>\n",
       "      <th>0</th>\n",
       "      <td>seeing the erosion of our freedoms makes it ha...</td>\n",
       "      <td>seeing the erosion of our freedoms makes it ha...</td>\n",
       "    </tr>\n",
       "    <tr>\n",
       "      <th>1</th>\n",
       "      <td>the supreme court, conservative governors and ...</td>\n",
       "      <td>the supreme court conservative governors and g...</td>\n",
       "    </tr>\n",
       "    <tr>\n",
       "      <th>2</th>\n",
       "      <td>the result is that tens of millions of america...</td>\n",
       "      <td>the result is that tens of millions of america...</td>\n",
       "    </tr>\n",
       "    <tr>\n",
       "      <th>3</th>\n",
       "      <td>on independence day 2023, justice, the “genera...</td>\n",
       "      <td>on independence day justice the general welfar...</td>\n",
       "    </tr>\n",
       "    <tr>\n",
       "      <th>4</th>\n",
       "      <td>the scale of the disparity is frightening and ...</td>\n",
       "      <td>the scale of the disparity is frightening and ...</td>\n",
       "    </tr>\n",
       "  </tbody>\n",
       "</table>\n",
       "</div>"
      ],
      "text/plain": [
       "                                        Frases MSNBC  \\\n",
       "0  seeing the erosion of our freedoms makes it ha...   \n",
       "1  the supreme court, conservative governors and ...   \n",
       "2  the result is that tens of millions of america...   \n",
       "3  on independence day 2023, justice, the “genera...   \n",
       "4  the scale of the disparity is frightening and ...   \n",
       "\n",
       "                                  Frases_netes MSNBC  \n",
       "0  seeing the erosion of our freedoms makes it ha...  \n",
       "1  the supreme court conservative governors and g...  \n",
       "2  the result is that tens of millions of america...  \n",
       "3  on independence day justice the general welfar...  \n",
       "4  the scale of the disparity is frightening and ...  "
      ]
     },
     "execution_count": 19,
     "metadata": {},
     "output_type": "execute_result"
    }
   ],
   "source": [
    "import re\n",
    "# Definim funció per netejar el texte\n",
    "def clean(text):\n",
    "# Treu tots els caracters especials i numerics deixan els alfabetics \n",
    "    text = re.sub('[^A-Za-z]+', ' ', text)\n",
    "    return text\n",
    "#Afegim columna\n",
    "frases_data['Frases_netes MSNBC'] = frases_data['Frases MSNBC'].apply(clean)\n",
    "frases_data.head()\n"
   ]
  },
  {
   "cell_type": "code",
   "execution_count": 20,
   "id": "45155cbb",
   "metadata": {},
   "outputs": [
    {
     "data": {
      "text/html": [
       "<div>\n",
       "<style scoped>\n",
       "    .dataframe tbody tr th:only-of-type {\n",
       "        vertical-align: middle;\n",
       "    }\n",
       "\n",
       "    .dataframe tbody tr th {\n",
       "        vertical-align: top;\n",
       "    }\n",
       "\n",
       "    .dataframe thead th {\n",
       "        text-align: right;\n",
       "    }\n",
       "</style>\n",
       "<table border=\"1\" class=\"dataframe\">\n",
       "  <thead>\n",
       "    <tr style=\"text-align: right;\">\n",
       "      <th></th>\n",
       "      <th>Frases MSNBC</th>\n",
       "      <th>Frases_netes MSNBC</th>\n",
       "      <th>etiquetes POS MSNBC</th>\n",
       "    </tr>\n",
       "  </thead>\n",
       "  <tbody>\n",
       "    <tr>\n",
       "      <th>0</th>\n",
       "      <td>seeing the erosion of our freedoms makes it ha...</td>\n",
       "      <td>seeing the erosion of our freedoms makes it ha...</td>\n",
       "      <td>[(seeing, v), (erosion, n), (freedoms, n), (ma...</td>\n",
       "    </tr>\n",
       "    <tr>\n",
       "      <th>1</th>\n",
       "      <td>the supreme court, conservative governors and ...</td>\n",
       "      <td>the supreme court conservative governors and g...</td>\n",
       "      <td>[(supreme, a), (court, n), (conservative, a), ...</td>\n",
       "    </tr>\n",
       "    <tr>\n",
       "      <th>2</th>\n",
       "      <td>the result is that tens of millions of america...</td>\n",
       "      <td>the result is that tens of millions of america...</td>\n",
       "      <td>[(result, n), (tens, n), (millions, n), (ameri...</td>\n",
       "    </tr>\n",
       "    <tr>\n",
       "      <th>3</th>\n",
       "      <td>on independence day 2023, justice, the “genera...</td>\n",
       "      <td>on independence day justice the general welfar...</td>\n",
       "      <td>[(independence, n), (day, n), (justice, v), (g...</td>\n",
       "    </tr>\n",
       "    <tr>\n",
       "      <th>4</th>\n",
       "      <td>the scale of the disparity is frightening and ...</td>\n",
       "      <td>the scale of the disparity is frightening and ...</td>\n",
       "      <td>[(scale, n), (disparity, n), (frightening, v),...</td>\n",
       "    </tr>\n",
       "  </tbody>\n",
       "</table>\n",
       "</div>"
      ],
      "text/plain": [
       "                                        Frases MSNBC  \\\n",
       "0  seeing the erosion of our freedoms makes it ha...   \n",
       "1  the supreme court, conservative governors and ...   \n",
       "2  the result is that tens of millions of america...   \n",
       "3  on independence day 2023, justice, the “genera...   \n",
       "4  the scale of the disparity is frightening and ...   \n",
       "\n",
       "                                  Frases_netes MSNBC  \\\n",
       "0  seeing the erosion of our freedoms makes it ha...   \n",
       "1  the supreme court conservative governors and g...   \n",
       "2  the result is that tens of millions of america...   \n",
       "3  on independence day justice the general welfar...   \n",
       "4  the scale of the disparity is frightening and ...   \n",
       "\n",
       "                                 etiquetes POS MSNBC  \n",
       "0  [(seeing, v), (erosion, n), (freedoms, n), (ma...  \n",
       "1  [(supreme, a), (court, n), (conservative, a), ...  \n",
       "2  [(result, n), (tens, n), (millions, n), (ameri...  \n",
       "3  [(independence, n), (day, n), (justice, v), (g...  \n",
       "4  [(scale, n), (disparity, n), (frightening, v),...  "
      ]
     },
     "execution_count": 20,
     "metadata": {},
     "output_type": "execute_result"
    }
   ],
   "source": [
    "# Importem el dictionari\n",
    "from nltk.corpus import wordnet\n",
    "from nltk.tag import pos_tag\n",
    "pos_dict = {'J':wordnet.ADJ, 'V':wordnet.VERB, 'N':wordnet.NOUN, 'R':wordnet.ADV}\n",
    "def token_stop_pos(text):\n",
    "    tags = pos_tag(word_tokenize(text))\n",
    "    newlist = []\n",
    "    for word, tag in tags:\n",
    "        if word.lower() not in set(stopwords.words('english')):\n",
    "            newlist.append(tuple([word, pos_dict.get(tag[0])]))\n",
    "    return newlist\n",
    "\n",
    "frases_data['etiquetes POS MSNBC'] = frases_data['Frases_netes MSNBC'].apply(token_stop_pos)\n",
    "frases_data.head()"
   ]
  },
  {
   "cell_type": "code",
   "execution_count": 21,
   "id": "49def384",
   "metadata": {},
   "outputs": [
    {
     "data": {
      "text/html": [
       "<div>\n",
       "<style scoped>\n",
       "    .dataframe tbody tr th:only-of-type {\n",
       "        vertical-align: middle;\n",
       "    }\n",
       "\n",
       "    .dataframe tbody tr th {\n",
       "        vertical-align: top;\n",
       "    }\n",
       "\n",
       "    .dataframe thead th {\n",
       "        text-align: right;\n",
       "    }\n",
       "</style>\n",
       "<table border=\"1\" class=\"dataframe\">\n",
       "  <thead>\n",
       "    <tr style=\"text-align: right;\">\n",
       "      <th></th>\n",
       "      <th>Frases MSNBC</th>\n",
       "      <th>Frases_netes MSNBC</th>\n",
       "      <th>etiquetes POS MSNBC</th>\n",
       "      <th>Lemma MSNBC</th>\n",
       "    </tr>\n",
       "  </thead>\n",
       "  <tbody>\n",
       "    <tr>\n",
       "      <th>0</th>\n",
       "      <td>seeing the erosion of our freedoms makes it ha...</td>\n",
       "      <td>seeing the erosion of our freedoms makes it ha...</td>\n",
       "      <td>[(seeing, v), (erosion, n), (freedoms, n), (ma...</td>\n",
       "      <td>see erosion freedom make hard celebrate four...</td>\n",
       "    </tr>\n",
       "    <tr>\n",
       "      <th>1</th>\n",
       "      <td>the supreme court, conservative governors and ...</td>\n",
       "      <td>the supreme court conservative governors and g...</td>\n",
       "      <td>[(supreme, a), (court, n), (conservative, a), ...</td>\n",
       "      <td>supreme court conservative governor gerryman...</td>\n",
       "    </tr>\n",
       "    <tr>\n",
       "      <th>2</th>\n",
       "      <td>the result is that tens of millions of america...</td>\n",
       "      <td>the result is that tens of millions of america...</td>\n",
       "      <td>[(result, n), (tens, n), (millions, n), (ameri...</td>\n",
       "      <td>result ten million american deprive right am...</td>\n",
       "    </tr>\n",
       "    <tr>\n",
       "      <th>3</th>\n",
       "      <td>on independence day 2023, justice, the “genera...</td>\n",
       "      <td>on independence day justice the general welfar...</td>\n",
       "      <td>[(independence, n), (day, n), (justice, v), (g...</td>\n",
       "      <td>independence day justice general welfare equ...</td>\n",
       "    </tr>\n",
       "    <tr>\n",
       "      <th>4</th>\n",
       "      <td>the scale of the disparity is frightening and ...</td>\n",
       "      <td>the scale of the disparity is frightening and ...</td>\n",
       "      <td>[(scale, n), (disparity, n), (frightening, v),...</td>\n",
       "      <td>scale disparity frighten grow take us ever a...</td>\n",
       "    </tr>\n",
       "  </tbody>\n",
       "</table>\n",
       "</div>"
      ],
      "text/plain": [
       "                                        Frases MSNBC  \\\n",
       "0  seeing the erosion of our freedoms makes it ha...   \n",
       "1  the supreme court, conservative governors and ...   \n",
       "2  the result is that tens of millions of america...   \n",
       "3  on independence day 2023, justice, the “genera...   \n",
       "4  the scale of the disparity is frightening and ...   \n",
       "\n",
       "                                  Frases_netes MSNBC  \\\n",
       "0  seeing the erosion of our freedoms makes it ha...   \n",
       "1  the supreme court conservative governors and g...   \n",
       "2  the result is that tens of millions of america...   \n",
       "3  on independence day justice the general welfar...   \n",
       "4  the scale of the disparity is frightening and ...   \n",
       "\n",
       "                                 etiquetes POS MSNBC  \\\n",
       "0  [(seeing, v), (erosion, n), (freedoms, n), (ma...   \n",
       "1  [(supreme, a), (court, n), (conservative, a), ...   \n",
       "2  [(result, n), (tens, n), (millions, n), (ameri...   \n",
       "3  [(independence, n), (day, n), (justice, v), (g...   \n",
       "4  [(scale, n), (disparity, n), (frightening, v),...   \n",
       "\n",
       "                                         Lemma MSNBC  \n",
       "0    see erosion freedom make hard celebrate four...  \n",
       "1    supreme court conservative governor gerryman...  \n",
       "2    result ten million american deprive right am...  \n",
       "3    independence day justice general welfare equ...  \n",
       "4    scale disparity frighten grow take us ever a...  "
      ]
     },
     "execution_count": 21,
     "metadata": {},
     "output_type": "execute_result"
    }
   ],
   "source": [
    "wordnet_lemmatizer = WordNetLemmatizer()\n",
    "def lemmatize(pos_data):\n",
    "    lemma_rew = \" \"\n",
    "    for word, pos in pos_data:\n",
    "        if not pos:\n",
    "            lemma = word\n",
    "            lemma_rew = lemma_rew + \" \" + lemma\n",
    "        else:\n",
    "            lemma = wordnet_lemmatizer.lemmatize(word, pos=pos)\n",
    "            lemma_rew = lemma_rew + \" \" + lemma\n",
    "    return lemma_rew\n",
    "\n",
    "frases_data['Lemma MSNBC'] = frases_data['etiquetes POS MSNBC'].apply(lemmatize)\n",
    "frases_data.head()"
   ]
  },
  {
   "cell_type": "code",
   "execution_count": 22,
   "id": "b1007817",
   "metadata": {},
   "outputs": [
    {
     "data": {
      "text/html": [
       "<div>\n",
       "<style scoped>\n",
       "    .dataframe tbody tr th:only-of-type {\n",
       "        vertical-align: middle;\n",
       "    }\n",
       "\n",
       "    .dataframe tbody tr th {\n",
       "        vertical-align: top;\n",
       "    }\n",
       "\n",
       "    .dataframe thead th {\n",
       "        text-align: right;\n",
       "    }\n",
       "</style>\n",
       "<table border=\"1\" class=\"dataframe\">\n",
       "  <thead>\n",
       "    <tr style=\"text-align: right;\">\n",
       "      <th></th>\n",
       "      <th>Frases MSNBC</th>\n",
       "      <th>Frases_netes MSNBC</th>\n",
       "      <th>etiquetes POS MSNBC</th>\n",
       "      <th>Lemma MSNBC</th>\n",
       "      <th>Polarity</th>\n",
       "      <th>Subjectivity</th>\n",
       "    </tr>\n",
       "  </thead>\n",
       "  <tbody>\n",
       "    <tr>\n",
       "      <th>0</th>\n",
       "      <td>seeing the erosion of our freedoms makes it ha...</td>\n",
       "      <td>seeing the erosion of our freedoms makes it ha...</td>\n",
       "      <td>[(seeing, v), (erosion, n), (freedoms, n), (ma...</td>\n",
       "      <td>see erosion freedom make hard celebrate four...</td>\n",
       "      <td>0.124008</td>\n",
       "      <td>0.337897</td>\n",
       "    </tr>\n",
       "    <tr>\n",
       "      <th>1</th>\n",
       "      <td>the supreme court, conservative governors and ...</td>\n",
       "      <td>the supreme court conservative governors and g...</td>\n",
       "      <td>[(supreme, a), (court, n), (conservative, a), ...</td>\n",
       "      <td>supreme court conservative governor gerryman...</td>\n",
       "      <td>0.285714</td>\n",
       "      <td>0.535714</td>\n",
       "    </tr>\n",
       "    <tr>\n",
       "      <th>2</th>\n",
       "      <td>the result is that tens of millions of america...</td>\n",
       "      <td>the result is that tens of millions of america...</td>\n",
       "      <td>[(result, n), (tens, n), (millions, n), (ameri...</td>\n",
       "      <td>result ten million american deprive right am...</td>\n",
       "      <td>0.071429</td>\n",
       "      <td>0.133929</td>\n",
       "    </tr>\n",
       "    <tr>\n",
       "      <th>3</th>\n",
       "      <td>on independence day 2023, justice, the “genera...</td>\n",
       "      <td>on independence day justice the general welfar...</td>\n",
       "      <td>[(independence, n), (day, n), (justice, v), (g...</td>\n",
       "      <td>independence day justice general welfare equ...</td>\n",
       "      <td>0.250000</td>\n",
       "      <td>0.316667</td>\n",
       "    </tr>\n",
       "    <tr>\n",
       "      <th>4</th>\n",
       "      <td>the scale of the disparity is frightening and ...</td>\n",
       "      <td>the scale of the disparity is frightening and ...</td>\n",
       "      <td>[(scale, n), (disparity, n), (frightening, v),...</td>\n",
       "      <td>scale disparity frighten grow take us ever a...</td>\n",
       "      <td>0.296429</td>\n",
       "      <td>0.508929</td>\n",
       "    </tr>\n",
       "  </tbody>\n",
       "</table>\n",
       "</div>"
      ],
      "text/plain": [
       "                                        Frases MSNBC  \\\n",
       "0  seeing the erosion of our freedoms makes it ha...   \n",
       "1  the supreme court, conservative governors and ...   \n",
       "2  the result is that tens of millions of america...   \n",
       "3  on independence day 2023, justice, the “genera...   \n",
       "4  the scale of the disparity is frightening and ...   \n",
       "\n",
       "                                  Frases_netes MSNBC  \\\n",
       "0  seeing the erosion of our freedoms makes it ha...   \n",
       "1  the supreme court conservative governors and g...   \n",
       "2  the result is that tens of millions of america...   \n",
       "3  on independence day justice the general welfar...   \n",
       "4  the scale of the disparity is frightening and ...   \n",
       "\n",
       "                                 etiquetes POS MSNBC  \\\n",
       "0  [(seeing, v), (erosion, n), (freedoms, n), (ma...   \n",
       "1  [(supreme, a), (court, n), (conservative, a), ...   \n",
       "2  [(result, n), (tens, n), (millions, n), (ameri...   \n",
       "3  [(independence, n), (day, n), (justice, v), (g...   \n",
       "4  [(scale, n), (disparity, n), (frightening, v),...   \n",
       "\n",
       "                                         Lemma MSNBC  Polarity  Subjectivity  \n",
       "0    see erosion freedom make hard celebrate four...  0.124008      0.337897  \n",
       "1    supreme court conservative governor gerryman...  0.285714      0.535714  \n",
       "2    result ten million american deprive right am...  0.071429      0.133929  \n",
       "3    independence day justice general welfare equ...  0.250000      0.316667  \n",
       "4    scale disparity frighten grow take us ever a...  0.296429      0.508929  "
      ]
     },
     "execution_count": 22,
     "metadata": {},
     "output_type": "execute_result"
    }
   ],
   "source": [
    "from textblob import TextBlob\n",
    "\n",
    "def getPolarity(text):\n",
    "    blob = TextBlob(text)\n",
    "    return blob.sentiment.polarity\n",
    "\n",
    "def getSubjectivity(text):\n",
    "    blob = TextBlob(text)\n",
    "    return blob.sentiment.subjectivity\n",
    "\n",
    "frases_data['Polarity'] = frases_data['Lemma MSNBC'].apply(getPolarity)\n",
    "frases_data['Subjectivity'] = frases_data['Lemma MSNBC'].apply(getSubjectivity)\n",
    "\n",
    "frases_data.head()\n"
   ]
  },
  {
   "cell_type": "code",
   "execution_count": 23,
   "id": "9b6c9d0b",
   "metadata": {},
   "outputs": [
    {
     "data": {
      "text/html": [
       "<div>\n",
       "<style scoped>\n",
       "    .dataframe tbody tr th:only-of-type {\n",
       "        vertical-align: middle;\n",
       "    }\n",
       "\n",
       "    .dataframe tbody tr th {\n",
       "        vertical-align: top;\n",
       "    }\n",
       "\n",
       "    .dataframe thead th {\n",
       "        text-align: right;\n",
       "    }\n",
       "</style>\n",
       "<table border=\"1\" class=\"dataframe\">\n",
       "  <thead>\n",
       "    <tr style=\"text-align: right;\">\n",
       "      <th></th>\n",
       "      <th>Polarity</th>\n",
       "      <th>Subjectivity</th>\n",
       "    </tr>\n",
       "  </thead>\n",
       "  <tbody>\n",
       "    <tr>\n",
       "      <th>count</th>\n",
       "      <td>35.000000</td>\n",
       "      <td>35.000000</td>\n",
       "    </tr>\n",
       "    <tr>\n",
       "      <th>mean</th>\n",
       "      <td>0.101289</td>\n",
       "      <td>0.346937</td>\n",
       "    </tr>\n",
       "    <tr>\n",
       "      <th>std</th>\n",
       "      <td>0.159275</td>\n",
       "      <td>0.218583</td>\n",
       "    </tr>\n",
       "    <tr>\n",
       "      <th>min</th>\n",
       "      <td>-0.291667</td>\n",
       "      <td>0.000000</td>\n",
       "    </tr>\n",
       "    <tr>\n",
       "      <th>25%</th>\n",
       "      <td>0.000000</td>\n",
       "      <td>0.225000</td>\n",
       "    </tr>\n",
       "    <tr>\n",
       "      <th>50%</th>\n",
       "      <td>0.100000</td>\n",
       "      <td>0.350000</td>\n",
       "    </tr>\n",
       "    <tr>\n",
       "      <th>75%</th>\n",
       "      <td>0.250000</td>\n",
       "      <td>0.525595</td>\n",
       "    </tr>\n",
       "    <tr>\n",
       "      <th>max</th>\n",
       "      <td>0.333333</td>\n",
       "      <td>0.766667</td>\n",
       "    </tr>\n",
       "  </tbody>\n",
       "</table>\n",
       "</div>"
      ],
      "text/plain": [
       "        Polarity  Subjectivity\n",
       "count  35.000000     35.000000\n",
       "mean    0.101289      0.346937\n",
       "std     0.159275      0.218583\n",
       "min    -0.291667      0.000000\n",
       "25%     0.000000      0.225000\n",
       "50%     0.100000      0.350000\n",
       "75%     0.250000      0.525595\n",
       "max     0.333333      0.766667"
      ]
     },
     "execution_count": 23,
     "metadata": {},
     "output_type": "execute_result"
    }
   ],
   "source": [
    "frases_data.describe()"
   ]
  },
  {
   "cell_type": "code",
   "execution_count": 24,
   "id": "bbbd0a2f",
   "metadata": {},
   "outputs": [
    {
     "data": {
      "text/html": [
       "<div>\n",
       "<style scoped>\n",
       "    .dataframe tbody tr th:only-of-type {\n",
       "        vertical-align: middle;\n",
       "    }\n",
       "\n",
       "    .dataframe tbody tr th {\n",
       "        vertical-align: top;\n",
       "    }\n",
       "\n",
       "    .dataframe thead th {\n",
       "        text-align: right;\n",
       "    }\n",
       "</style>\n",
       "<table border=\"1\" class=\"dataframe\">\n",
       "  <thead>\n",
       "    <tr style=\"text-align: right;\">\n",
       "      <th></th>\n",
       "      <th>Frases FOX</th>\n",
       "      <th>Frases_netes FOX</th>\n",
       "      <th>etiquetes POS FOX</th>\n",
       "      <th>Lemma FOX</th>\n",
       "      <th>Polarity</th>\n",
       "      <th>Subjectivity</th>\n",
       "    </tr>\n",
       "  </thead>\n",
       "  <tbody>\n",
       "    <tr>\n",
       "      <th>0</th>\n",
       "      <td>on july 4, 'remember the blessing of living in...</td>\n",
       "      <td>on july remember the blessing of living in the...</td>\n",
       "      <td>[(july, n), (remember, v), (blessing, n), (liv...</td>\n",
       "      <td>july remember blessing living free prosperou...</td>\n",
       "      <td>0.133333</td>\n",
       "      <td>0.600000</td>\n",
       "    </tr>\n",
       "    <tr>\n",
       "      <th>1</th>\n",
       "      <td>\"the united states is unique in world history ...</td>\n",
       "      <td>the united states is unique in world history ...</td>\n",
       "      <td>[(united, a), (states, n), (unique, a), (world...</td>\n",
       "      <td>united state unique world history founding g...</td>\n",
       "      <td>0.293750</td>\n",
       "      <td>0.462500</td>\n",
       "    </tr>\n",
       "    <tr>\n",
       "      <th>2</th>\n",
       "      <td>\"the formation of the united states is the piv...</td>\n",
       "      <td>the formation of the united states is the piv...</td>\n",
       "      <td>[(formation, n), (united, a), (states, n), (pi...</td>\n",
       "      <td>formation united state pivotal event last fo...</td>\n",
       "      <td>0.145833</td>\n",
       "      <td>0.466667</td>\n",
       "    </tr>\n",
       "    <tr>\n",
       "      <th>3</th>\n",
       "      <td>american flags for families, friends and neigh...</td>\n",
       "      <td>american flags for families friends and neighb...</td>\n",
       "      <td>[(american, a), (flags, n), (families, n), (fr...</td>\n",
       "      <td>american flag family friend neighbor heart e...</td>\n",
       "      <td>0.000000</td>\n",
       "      <td>0.000000</td>\n",
       "    </tr>\n",
       "    <tr>\n",
       "      <th>4</th>\n",
       "      <td>said taylor, \"while many nations progressively...</td>\n",
       "      <td>said taylor while many nations progressively e...</td>\n",
       "      <td>[(said, v), (taylor, n), (many, a), (nations, ...</td>\n",
       "      <td>say taylor many nation progressively evolve ...</td>\n",
       "      <td>0.375000</td>\n",
       "      <td>0.416667</td>\n",
       "    </tr>\n",
       "  </tbody>\n",
       "</table>\n",
       "</div>"
      ],
      "text/plain": [
       "                                          Frases FOX  \\\n",
       "0  on july 4, 'remember the blessing of living in...   \n",
       "1  \"the united states is unique in world history ...   \n",
       "2  \"the formation of the united states is the piv...   \n",
       "3  american flags for families, friends and neigh...   \n",
       "4  said taylor, \"while many nations progressively...   \n",
       "\n",
       "                                    Frases_netes FOX  \\\n",
       "0  on july remember the blessing of living in the...   \n",
       "1   the united states is unique in world history ...   \n",
       "2   the formation of the united states is the piv...   \n",
       "3  american flags for families friends and neighb...   \n",
       "4  said taylor while many nations progressively e...   \n",
       "\n",
       "                                   etiquetes POS FOX  \\\n",
       "0  [(july, n), (remember, v), (blessing, n), (liv...   \n",
       "1  [(united, a), (states, n), (unique, a), (world...   \n",
       "2  [(formation, n), (united, a), (states, n), (pi...   \n",
       "3  [(american, a), (flags, n), (families, n), (fr...   \n",
       "4  [(said, v), (taylor, n), (many, a), (nations, ...   \n",
       "\n",
       "                                           Lemma FOX  Polarity  Subjectivity  \n",
       "0    july remember blessing living free prosperou...  0.133333      0.600000  \n",
       "1    united state unique world history founding g...  0.293750      0.462500  \n",
       "2    formation united state pivotal event last fo...  0.145833      0.466667  \n",
       "3    american flag family friend neighbor heart e...  0.000000      0.000000  \n",
       "4    say taylor many nation progressively evolve ...  0.375000      0.416667  "
      ]
     },
     "execution_count": 24,
     "metadata": {},
     "output_type": "execute_result"
    }
   ],
   "source": [
    "#Fem el mateix per Fox:\n",
    "lower_politicsFox=politicsFox.lower()\n",
    "frasesFox = nltk.sent_tokenize(lower_politicsFox)\n",
    "frases_dataFox = pd.DataFrame({'Frases FOX': frasesFox})\n",
    "# Cleaning the text in the review column\n",
    "frases_dataFox['Frases_netes FOX'] = frases_dataFox['Frases FOX'].apply(clean)\n",
    "frases_dataFox['etiquetes POS FOX'] = frases_dataFox['Frases_netes FOX'].apply(token_stop_pos)\n",
    "frases_dataFox['Lemma FOX'] = frases_dataFox['etiquetes POS FOX'].apply(lemmatize)\n",
    "frases_dataFox['Polarity'] = frases_dataFox['Lemma FOX'].apply(getPolarity)\n",
    "frases_dataFox['Subjectivity'] = frases_dataFox['Lemma FOX'].apply(getSubjectivity)\n",
    "frases_dataFox.head()"
   ]
  },
  {
   "cell_type": "code",
   "execution_count": 25,
   "id": "a8ae7d57",
   "metadata": {},
   "outputs": [
    {
     "data": {
      "text/html": [
       "<div>\n",
       "<style scoped>\n",
       "    .dataframe tbody tr th:only-of-type {\n",
       "        vertical-align: middle;\n",
       "    }\n",
       "\n",
       "    .dataframe tbody tr th {\n",
       "        vertical-align: top;\n",
       "    }\n",
       "\n",
       "    .dataframe thead th {\n",
       "        text-align: right;\n",
       "    }\n",
       "</style>\n",
       "<table border=\"1\" class=\"dataframe\">\n",
       "  <thead>\n",
       "    <tr style=\"text-align: right;\">\n",
       "      <th></th>\n",
       "      <th>Polarity</th>\n",
       "      <th>Subjectivity</th>\n",
       "    </tr>\n",
       "  </thead>\n",
       "  <tbody>\n",
       "    <tr>\n",
       "      <th>count</th>\n",
       "      <td>32.000000</td>\n",
       "      <td>32.000000</td>\n",
       "    </tr>\n",
       "    <tr>\n",
       "      <th>mean</th>\n",
       "      <td>0.128446</td>\n",
       "      <td>0.300767</td>\n",
       "    </tr>\n",
       "    <tr>\n",
       "      <th>std</th>\n",
       "      <td>0.152727</td>\n",
       "      <td>0.225661</td>\n",
       "    </tr>\n",
       "    <tr>\n",
       "      <th>min</th>\n",
       "      <td>-0.125000</td>\n",
       "      <td>0.000000</td>\n",
       "    </tr>\n",
       "    <tr>\n",
       "      <th>25%</th>\n",
       "      <td>0.000000</td>\n",
       "      <td>0.037500</td>\n",
       "    </tr>\n",
       "    <tr>\n",
       "      <th>50%</th>\n",
       "      <td>0.091667</td>\n",
       "      <td>0.333611</td>\n",
       "    </tr>\n",
       "    <tr>\n",
       "      <th>75%</th>\n",
       "      <td>0.229167</td>\n",
       "      <td>0.467917</td>\n",
       "    </tr>\n",
       "    <tr>\n",
       "      <th>max</th>\n",
       "      <td>0.525000</td>\n",
       "      <td>0.681429</td>\n",
       "    </tr>\n",
       "  </tbody>\n",
       "</table>\n",
       "</div>"
      ],
      "text/plain": [
       "        Polarity  Subjectivity\n",
       "count  32.000000     32.000000\n",
       "mean    0.128446      0.300767\n",
       "std     0.152727      0.225661\n",
       "min    -0.125000      0.000000\n",
       "25%     0.000000      0.037500\n",
       "50%     0.091667      0.333611\n",
       "75%     0.229167      0.467917\n",
       "max     0.525000      0.681429"
      ]
     },
     "execution_count": 25,
     "metadata": {},
     "output_type": "execute_result"
    }
   ],
   "source": [
    "frases_dataFox.describe()"
   ]
  },
  {
   "cell_type": "code",
   "execution_count": 31,
   "id": "e5ff4703",
   "metadata": {},
   "outputs": [
    {
     "data": {
      "image/png": "[encoded data removed]",
      "text/plain": [
       "<Figure size 432x288 with 1 Axes>"
      ]
     },
     "metadata": {
      "needs_background": "light"
     },
     "output_type": "display_data"
    }
   ],
   "source": [
    "# Grafiquem la distribució de la Polaritat i subjectivitat de les frases als 2 articles:\n",
    "#  Polarity\n",
    "sns.distplot(frases_dataFox['Polarity'], hist=False, kde=True, label='Polarity FOX')\n",
    "sns.distplot(frases_data['Polarity'], hist=False, kde=True, label='Polarity MSNBC')\n",
    "# Subjectivity\n",
    "sns.distplot(frases_dataFox['Subjectivity'], hist=False, kde=True, label='Subjectivity FOX')\n",
    "sns.distplot(frases_data['Subjectivity'], hist=False, kde=True, label='Subjectivity MSNBC')\n",
    "plt.xlabel('Score')\n",
    "plt.ylabel('Density')\n",
    "plt.title('Distribucio de la Polaritat i Subjectivitat per frase')\n",
    "plt.legend()\n",
    "plt.show()\n"
   ]
  },
  {
   "cell_type": "markdown",
   "id": "3c5d03b0",
   "metadata": {},
   "source": [
    "## Conclusions"
   ]
  },
  {
   "cell_type": "markdown",
   "id": "593f066a",
   "metadata": {},
   "source": [
    "- Mirant els resultats per frases, podem concloure que tot i que FOX te frases amb màxims mes elevats de polaritat. \n",
    "Els dos articles tenen una subjectivitat i polaritat similar.\n",
    "- Son dos articles molt diferents amb gairebé gens de similitut per una mateixa noticia com demostra similarity_score, donant 2 visions totalment oposa\n",
    "i d'espectres polítics totalment diferents.\n",
    "- Els dos articles, però donen un sentiment neutre i tenen una puntació també similar de positivitat i negativitat.\n",
    "Sembla evident que tractant-se de la festivitat del 4 de Juliol, no hauria per què haver un biaix en la informació \n",
    "- Amb les uniques 2 proves que podem identificar un biax de la informació es amb el quoficient de Jaccard de similitut i mirant la\n",
    "frequencia de la tipologia de paraules utilitzades. \n",
    "\n",
    "\n"
   ]
  }
 ],
 "metadata": {
  "kernelspec": {
   "display_name": "Python 3 (ipykernel)",
   "language": "python",
   "name": "python3"
  },
  "language_info": {
   "codemirror_mode": {
    "name": "ipython",
    "version": 3
   },
   "file_extension": ".py",
   "mimetype": "text/x-python",
   "name": "python",
   "nbconvert_exporter": "python",
   "pygments_lexer": "ipython3",
   "version": "3.9.12"
  }
 },
 "nbformat": 4,
 "nbformat_minor": 5
}
